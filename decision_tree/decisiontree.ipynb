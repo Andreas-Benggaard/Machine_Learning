{
 "cells": [
  {
   "cell_type": "code",
   "execution_count": 1,
   "metadata": {},
   "outputs": [],
   "source": [
    "import numpy as np\n",
    "import pandas as pd"
   ]
  },
  {
   "cell_type": "code",
   "execution_count": 2,
   "metadata": {},
   "outputs": [],
   "source": [
    "class Node():\n",
    "    def __init__(self, ftr_index=None, threshold=None, dataleft=None, dataright=None, info_gain=None, value=None):\n",
    "        self.feature_index = ftr_index\n",
    "        self.threshold = threshold\n",
    "        self.dataleft = dataleft\n",
    "        self.dataright = dataright\n",
    "        self.info_gain = info_gain\n",
    "        self.value = value"
   ]
  },
  {
   "cell_type": "code",
   "execution_count": 3,
   "metadata": {},
   "outputs": [],
   "source": [
    "class DecisionTree():\n",
    "    def __init__(self, min_split=2, max_depth=2):\n",
    "        self.root = None\n",
    "        self.min_split = min_split #when to stop splitting (ex: if 2 samples left in node, stop splitting)\n",
    "        self.max_depth = max_depth #maximum depth of tree\n",
    "        \n",
    "    def make_tree(self, data, curr_depth=0):\n",
    "\n",
    "        X, y = data[:,:-1], data[:,-1] #last column is y\n",
    "        nb_samples, _ = np.shape(X)\n",
    "        \n",
    "        if nb_samples>=self.min_split and curr_depth<=self.max_depth: \n",
    "            #if we have enough samples to split and haven't reached max depth\n",
    "            bestsplit = self.best_split(X,y)\n",
    "\n",
    "            if bestsplit[\"info_gain\"]>0: \n",
    "                #do the split only if the info gain is positive\n",
    "                left = self.make_tree(bestsplit[\"data_left\"], curr_depth+1)\n",
    "                right = self.make_tree(bestsplit[\"data_right\"], curr_depth+1)\n",
    "   \n",
    "                return Node(bestsplit[\"feature_index\"], bestsplit[\"threshold\"], \n",
    "                            left, right, bestsplit[\"info_gain\"])\n",
    "\n",
    "\n",
    "        y=list(y)\n",
    "        leaf_val=max(y, key=y.count)\n",
    "\n",
    "        return Node(value=leaf_val)\n",
    "    \n",
    "    def best_split(self, X, y):\n",
    "\n",
    "        best_split = {}\n",
    "        best_info_gain = -np.inf \n",
    "        features = X.shape[1] \n",
    "        \n",
    "        for feature in range(features):\n",
    "            feature_values = X[:, feature]\n",
    "\n",
    "            for threshold in np.unique(feature_values):\n",
    "                df = np.concatenate((X, y.reshape(1, -1).T), axis=1)\n",
    "                #divide the current node into two child nodes based on the threshold\n",
    "                left = np.array([row for row in df if row[feature] <= threshold])\n",
    "                right = np.array([row for row in df if row[feature] > threshold])\n",
    "                #if the split is valid, calculate the info gain\n",
    "                if len(left) > 0 and len(right) > 0:\n",
    "                    y = df[:, -1]\n",
    "                    yleft = left[:, -1]\n",
    "                    yright = right[:, -1]\n",
    "\n",
    "                    current_info_gain = self.infogain(y, yleft, yright)\n",
    "                    #if the info gain for this treshold is better than the current info gain, update it\n",
    "                    if current_info_gain > best_info_gain:\n",
    "                        best_split = {\n",
    "                            'feature_index': feature,\n",
    "                            'threshold': threshold,\n",
    "                            'data_left': left,\n",
    "                            'data_right': right,\n",
    "                            'info_gain': current_info_gain\n",
    "                        }\n",
    "                        best_info_gain = current_info_gain\n",
    "        return best_split\n",
    "    \n",
    "    def infogain(self, parent, leftchild, rightchild):\n",
    "        \n",
    "        leftweight = len(leftchild) / len(parent)\n",
    "        rightweight = len(rightchild) / len(parent)\n",
    "        return self.entropy(parent) - (leftweight*self.entropy(leftchild) \n",
    "                + rightweight*self.entropy(rightchild)) \n",
    "\n",
    "    \n",
    "    def entropy(self, y):\n",
    "        entropy = 0\n",
    "        labels = np.unique(y)\n",
    "        \n",
    "        for label in labels:\n",
    "            label_prob = len(y[y == label]) / len(y)\n",
    "            entropy += -label_prob * np.log2(label_prob)\n",
    "        return entropy\n",
    "\n",
    "        \n",
    "\n",
    "    def fit(self, X, y):\n",
    "        data = np.concatenate((X, y), axis=1)\n",
    "        self.root = self.make_tree(data)\n",
    "    \n",
    "    def predict(self, X):\n",
    "        predictions = [self.predict_sample(x, self.root) for x in X]\n",
    "        return predictions\n",
    "    \n",
    "    def predict_sample(self, x, tree):\n",
    "        #predicts the value of a single sample\n",
    "        if tree.value!=None: return tree.value\n",
    "        feature_val = x[tree.feature_index]\n",
    "        if feature_val<=tree.threshold:\n",
    "            return self.predict_sample(x, tree.dataleft)\n",
    "        elif feature_val>tree.threshold:\n",
    "            return self.predict_sample(x, tree.dataright)"
   ]
  },
  {
   "cell_type": "code",
   "execution_count": 4,
   "metadata": {},
   "outputs": [],
   "source": [
    "dataset=np.load('data/fashion_train.npy')\n",
    "X,y=np.hsplit(dataset, [-1])"
   ]
  },
  {
   "cell_type": "code",
   "execution_count": 5,
   "metadata": {},
   "outputs": [],
   "source": [
    "from sklearn.preprocessing import StandardScaler\n",
    "from sklearn.decomposition import PCA\n",
    "\n",
    "\n",
    "\n",
    "# # Scale the data\n",
    "scaler = StandardScaler()\n",
    "scaler.fit(X)\n",
    "\n",
    "X_scaled = scaler.transform(X)\n",
    "\n",
    "# Perform PCA\n",
    "pca = PCA(n_components=15)\n",
    "X_train_reduced = pca.fit_transform(X_scaled)\n",
    "\n",
    "# Train the model\n",
    "\n",
    "classifier = DecisionTree(min_split=2, max_depth=5)\n",
    "classifier.fit(X_train_reduced,y)"
   ]
  },
  {
   "cell_type": "code",
   "execution_count": null,
   "metadata": {},
   "outputs": [
    {
     "data": {
      "text/plain": [
       "0.7546"
      ]
     },
     "execution_count": 210,
     "metadata": {},
     "output_type": "execute_result"
    }
   ],
   "source": [
    "# Load and standardize test data\n",
    "testdata=np.load('data/fashion_test.npy')\n",
    "\n",
    "X_test, y_test = np.hsplit(testdata, [-1])\n",
    "\n",
    "X_scaled = scaler.transform(X_test)\n",
    "\n",
    "# Perform PCA\n",
    "X_reduced = pca.transform(X_scaled)\n",
    "\n",
    "Y_pred = classifier.predict(X_reduced) \n",
    "\n",
    "from sklearn.metrics import accuracy_score\n",
    "accuracy_score(y_test, Y_pred)"
   ]
  },
  {
   "cell_type": "code",
   "execution_count": null,
   "metadata": {},
   "outputs": [
    {
     "data": {
      "text/plain": [
       "Text(0.5, 15.0, 'Predicted label')"
      ]
     },
     "execution_count": 211,
     "metadata": {},
     "output_type": "execute_result"
    },
    {
     "data": {
      "image/png": "[encoded data removed]",
      "text/plain": [
       "<Figure size 432x288 with 2 Axes>"
      ]
     },
     "metadata": {
      "needs_background": "light"
     },
     "output_type": "display_data"
    }
   ],
   "source": [
    "#Plot the confusion matrix\n",
    "\n",
    "import seaborn as sn\n",
    "from sklearn.metrics import confusion_matrix\n",
    "import matplotlib.pyplot as plt\n",
    "\n",
    "sn.heatmap(confusion_matrix(y_test, Y_pred), annot=True, cmap='Blues', fmt='g', annot_kws={\"size\": 8})\n",
    "plt.title('Confusion matrix')\n",
    "plt.ylabel('True label')\n",
    "plt.xlabel('Predicted label')"
   ]
  },
  {
   "cell_type": "code",
   "execution_count": null,
   "metadata": {},
   "outputs": [
    {
     "name": "stdout",
     "output_type": "stream",
     "text": [
      "Accuracy:  0.7546\n",
      "Precision:  0.7537196854891663\n",
      "Recall:  0.7545999999999999\n",
      "F1:  0.7452441159348435\n"
     ]
    }
   ],
   "source": [
    "#Make the classification report\n",
    "from sklearn.metrics import confusion_matrix, f1_score, recall_score, precision_score, accuracy_score, auc, roc_auc_score, roc_curve\n",
    "\n",
    "print(\"Accuracy: \", accuracy_score(y_test, Y_pred))\n",
    "print(\"Precision: \", precision_score(y_test, Y_pred, average='macro'))\n",
    "print(\"Recall: \", recall_score(y_test, Y_pred, average='macro'))\n",
    "print(\"F1: \", f1_score(y_test, Y_pred, average='macro'))\n"
   ]
  }
 ],
 "metadata": {
  "kernelspec": {
   "display_name": "Python 3.9.12 ('base')",
   "language": "python",
   "name": "python3"
  },
  "language_info": {
   "codemirror_mode": {
    "name": "ipython",
    "version": 3
   },
   "file_extension": ".py",
   "mimetype": "text/x-python",
   "name": "python",
   "nbconvert_exporter": "python",
   "pygments_lexer": "ipython3",
   "version": "3.9.12"
  },
  "orig_nbformat": 4,
  "vscode": {
   "interpreter": {
    "hash": "267163d9178a8f2c7228cfd8c24fe2c65a021fcd5286aa000017a8cb82985976"
   }
  }
 },
 "nbformat": 4,
 "nbformat_minor": 2
}
