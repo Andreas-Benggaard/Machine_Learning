{
 "cells": [
  {
   "cell_type": "code",
   "execution_count": 1,
   "metadata": {},
   "outputs": [],
   "source": [
    "import numpy as np \n",
    "from matplotlib import pyplot as plt\n",
    "from sklearn.metrics import accuracy_score\n",
    "# to import script\n",
    "import sys\n",
    "sys.path.insert(1,\"../\")\n",
    "from scripts import neural_network as nn"
   ]
  },
  {
   "cell_type": "code",
   "execution_count": 2,
   "metadata": {},
   "outputs": [],
   "source": [
    "# load data \n",
    "X, Y = nn.load_data()\n",
    "n = 100\n",
    "x_train = X[:n] / 255\n",
    "y_train = Y[:n]"
   ]
  },
  {
   "cell_type": "code",
   "execution_count": 3,
   "metadata": {},
   "outputs": [
    {
     "name": "stdout",
     "output_type": "stream",
     "text": [
      " I: neurons: 785 \n",
      " H: neurons: 701 \n",
      " H: neurons: 201 \n",
      " O: neurons: 5 \n",
      "\n"
     ]
    }
   ],
   "source": [
    "# initialize Network\n",
    "init_ws = \"X\"\n",
    "Network = nn.Network(x_train,y_train)\n",
    "Network.add_input_layer(initialization=init_ws)\n",
    "Network.add_hidden_layer(700, initialization=init_ws)\n",
    "Network.add_output_layer(5, initialization=init_ws)\n"
   ]
  },
  {
   "cell_type": "code",
   "execution_count": 4,
   "metadata": {},
   "outputs": [],
   "source": [
    "# why does it not work\n",
    "# weight works fine and are updated\n",
    "# TODO: activation  "
   ]
  },
  {
   "cell_type": "code",
   "execution_count": 5,
   "metadata": {},
   "outputs": [
    {
     "ename": "ValueError",
     "evalue": "operands could not be broadcast together with shapes (701,201) (201,201) ",
     "output_type": "error",
     "traceback": [
      "\u001b[1;31m---------------------------------------------------------------------------\u001b[0m",
      "\u001b[1;31mValueError\u001b[0m                                Traceback (most recent call last)",
      "\u001b[1;32mc:\\Users\\Nicklas\\Documents\\GitHub\\ml_project\\notebooks\\network.ipynb Cell 5\u001b[0m in \u001b[0;36m<cell line: 5>\u001b[1;34m()\u001b[0m\n\u001b[0;32m      <a href='vscode-notebook-cell:/c%3A/Users/Nicklas/Documents/GitHub/ml_project/notebooks/network.ipynb#W4sZmlsZQ%3D%3D?line=2'>3</a>\u001b[0m learning_rate \u001b[39m=\u001b[39m \u001b[39m0.00001\u001b[39m\n\u001b[0;32m      <a href='vscode-notebook-cell:/c%3A/Users/Nicklas/Documents/GitHub/ml_project/notebooks/network.ipynb#W4sZmlsZQ%3D%3D?line=3'>4</a>\u001b[0m epochs \u001b[39m=\u001b[39m \u001b[39m100\u001b[39m\n\u001b[1;32m----> <a href='vscode-notebook-cell:/c%3A/Users/Nicklas/Documents/GitHub/ml_project/notebooks/network.ipynb#W4sZmlsZQ%3D%3D?line=4'>5</a>\u001b[0m Network\u001b[39m.\u001b[39;49mtrain_nework(x_train, y_train, learning_rate, epochs\u001b[39m=\u001b[39;49mepochs)\n\u001b[0;32m      <a href='vscode-notebook-cell:/c%3A/Users/Nicklas/Documents/GitHub/ml_project/notebooks/network.ipynb#W4sZmlsZQ%3D%3D?line=5'>6</a>\u001b[0m y_hat \u001b[39m=\u001b[39m Network\u001b[39m.\u001b[39mget_predicted_labels()\n\u001b[0;32m      <a href='vscode-notebook-cell:/c%3A/Users/Nicklas/Documents/GitHub/ml_project/notebooks/network.ipynb#W4sZmlsZQ%3D%3D?line=6'>7</a>\u001b[0m accuracy_score(y_train, y_hat)\n",
      "File \u001b[1;32mc:\\Users\\Nicklas\\Documents\\GitHub\\ml_project\\notebooks\\..\\scripts\\neural_network.py:255\u001b[0m, in \u001b[0;36mNetwork.train_nework\u001b[1;34m(self, x_train, y_train, learning_rate, epochs)\u001b[0m\n\u001b[0;32m    253\u001b[0m \u001b[39mself\u001b[39m\u001b[39m.\u001b[39mpass_forward(x_train)\n\u001b[0;32m    254\u001b[0m \u001b[39m# pass back through the network and update weights\u001b[39;00m\n\u001b[1;32m--> 255\u001b[0m \u001b[39mself\u001b[39;49m\u001b[39m.\u001b[39;49m_pass_backwards(y_train, learning_rate)\n\u001b[0;32m    256\u001b[0m \u001b[39m# get predicted labels\u001b[39;00m\n\u001b[0;32m    257\u001b[0m y_hat \u001b[39m=\u001b[39m \u001b[39mself\u001b[39m\u001b[39m.\u001b[39m_get_predicted_labels()\n",
      "File \u001b[1;32mc:\\Users\\Nicklas\\Documents\\GitHub\\ml_project\\notebooks\\..\\scripts\\neural_network.py:204\u001b[0m, in \u001b[0;36mNetwork._pass_backwards\u001b[1;34m(self, y_train, learning_rate)\u001b[0m\n\u001b[0;32m    201\u001b[0m     dL_dw \u001b[39m=\u001b[39m dz_dw\u001b[39m.\u001b[39mT \u001b[39m@\u001b[39m dah_dzh\n\u001b[0;32m    203\u001b[0m \u001b[39m# update weights\u001b[39;00m\n\u001b[1;32m--> 204\u001b[0m new_weight \u001b[39m=\u001b[39m ws[\u001b[39m-\u001b[39;49mi] \u001b[39m-\u001b[39;49m learning_rate \u001b[39m*\u001b[39;49m dL_dw\n\u001b[0;32m    205\u001b[0m \u001b[39mself\u001b[39m\u001b[39m.\u001b[39m_ws[\u001b[39m-\u001b[39mi] \u001b[39m=\u001b[39m new_weight\n",
      "\u001b[1;31mValueError\u001b[0m: operands could not be broadcast together with shapes (701,201) (201,201) "
     ]
    }
   ],
   "source": [
    "# n x p --> p x k1 --> k1 x k2 \n",
    "# TODO: fix grad\n",
    "learning_rate = 0.00001\n",
    "epochs = 100\n",
    "Network.train_nework(x_train, y_train, learning_rate, epochs=epochs)\n",
    "y_hat = Network.get_predicted_labels()\n",
    "accuracy_score(y_train, y_hat)\n"
   ]
  },
  {
   "cell_type": "code",
   "execution_count": null,
   "metadata": {},
   "outputs": [],
   "source": [
    "Network._sizes_of_ws"
   ]
  },
  {
   "cell_type": "code",
   "execution_count": null,
   "metadata": {},
   "outputs": [],
   "source": [
    "a = [0]\n",
    "print(a)\n",
    "print(a.clear())"
   ]
  },
  {
   "cell_type": "code",
   "execution_count": null,
   "metadata": {},
   "outputs": [],
   "source": [
    "activated = Network.get_activated()\n",
    "shapes = Network.get_neurons_in_layers()\n",
    "shapes"
   ]
  },
  {
   "cell_type": "code",
   "execution_count": null,
   "metadata": {},
   "outputs": [],
   "source": [
    "a = np.array([[1,0,-1]])\n",
    "\n",
    "b = np.where(a > 0, 1, 0)\n",
    "b"
   ]
  },
  {
   "cell_type": "markdown",
   "metadata": {},
   "source": []
  }
 ],
 "metadata": {
  "kernelspec": {
   "display_name": "Python 3.10.6 ('ml')",
   "language": "python",
   "name": "python3"
  },
  "language_info": {
   "codemirror_mode": {
    "name": "ipython",
    "version": 3
   },
   "file_extension": ".py",
   "mimetype": "text/x-python",
   "name": "python",
   "nbconvert_exporter": "python",
   "pygments_lexer": "ipython3",
   "version": "3.10.6 | packaged by conda-forge | (main, Oct 24 2022, 16:02:16) [MSC v.1916 64 bit (AMD64)]"
  },
  "orig_nbformat": 4,
  "vscode": {
   "interpreter": {
    "hash": "fd35a6e2c591294c77df8e24e46415efc1949605c33b89ed8162b59cb4aecd1c"
   }
  }
 },
 "nbformat": 4,
 "nbformat_minor": 2
}
