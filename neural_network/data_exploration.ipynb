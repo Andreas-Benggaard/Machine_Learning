{
 "cells": [
  {
   "cell_type": "code",
   "execution_count": 1,
   "metadata": {},
   "outputs": [],
   "source": [
    "import pandas as pd\n",
    "import numpy as np\n",
    "import matplotlib.pyplot as plt\n",
    "import sys\n",
    "sys.path.insert(1,\"../\")"
   ]
  },
  {
   "cell_type": "code",
   "execution_count": 2,
   "metadata": {},
   "outputs": [],
   "source": [
    "test = np.load(\"../data/fashion_test.npy\")\n",
    "train = np.load(\"../data/fashion_train.npy\")"
   ]
  },
  {
   "cell_type": "code",
   "execution_count": 23,
   "metadata": {},
   "outputs": [
    {
     "name": "stdout",
     "output_type": "stream",
     "text": [
      "(10000, 785)\n",
      "[  0   0   0   0   0   3   0   0   0  41  92 172 100  23  22  33 104 136\n",
      "  93  44   0   0   0   2   0   0   0   0   0   0   0   0   2   0   6 119\n",
      " 166 177 159 153 227 232 215 240 227 156 162 180 175 102   0   0   0   0\n",
      "   0   0   0   0   0   2   0  16 166 143 133 126 134 121 102 146 171 160\n",
      " 106 113 130 130 136 151 159   0   0   1   0   0   0   0   0   1   0 105\n",
      " 139 123 130 129 133 133 134 116 108 113 129 135 136 131 128 126 150  77\n",
      "   0   2   0   0   0   0   0   0   2 151 128 126 129 130 131 130 129 131\n",
      " 135 134 130 130 131 130 130 130 139 138   0   0   0   0   0   0   0   0\n",
      "  44 148 129 126 130 133 129 129 130 130 129 129 130 129 131 130 131 125\n",
      " 146 165   2   0   0   0   0   0   0   0  93 156 148 124 126 126 128 128\n",
      " 129 129 129 129 129 128 131 125 145 141 153 156  36   0   0   0   0   0\n",
      "   0   0 134 150 169 136 123 130 129 129 133 133 130 131 130 134 135 120\n",
      " 157 143 156 157  78   0   0   0   0   0   0   0 155 140 176 174 103 138\n",
      " 130 131 130 130 134 131 131 130 148 113 179 181 155 148 121   0   0   0\n",
      "   0   0   0  36 160 143 179 221 113 129 134 133 135 134 135 131 141 133\n",
      " 146  98 202 216 150 145 155   0   0   0   0   0   0  87 138 139 169 243\n",
      " 121 126 133 133 140 134 130 134 136 141 139  97 213 223 143 136 143   7\n",
      "   0   0   0   0   0 118 165 161 191 255 150 115 135 130 143 134 130 139\n",
      " 126 156 138  97 223 247 160 153 159  54   0   0   0   0   0   0  14  49\n",
      "  70  89 131 130 130 126 146 140 133 139 129 153 149 104 189 130  92  83\n",
      "  46   0   0   0   0   0   0   0   0   0   0   0 146 131 126 129 144 139\n",
      " 128 135 134 140 162 116 150   0   0   0   0   0   0   0   0   0   0   1\n",
      "   2   2   0   4 148 129 124 131 143 144 134 136 140 126 169 126 145   0\n",
      "   0   2   3   1   0   0   0   0   0   0   0   2   0   9 153 126 124 131\n",
      " 144 148 136 134 145 124 162 136 134   0   0   1   0   0   0   0   0   0\n",
      "   0   0   0   2   0  17 153 125 124 130 141 149 144 130 141 126 150 140\n",
      " 130   0   0   1   1   0   0   0   0   0   0   1   1   3   0  18 151 119\n",
      " 125 131 141 151 146 129 141 130 135 146 125   0   0   1   0   0   0   0\n",
      "   0   0   0   0   1   3   0  23 156 113 124 131 139 153 150 128 140 136\n",
      " 125 141 128   0   0   0   0   0   0   0   0   0   0   0   0   2   0  29\n",
      " 151 118 128 134 141 151 161 130 134 141 128 139 126   0   0   0   1   0\n",
      "   0   0   0   0   0   0   0   2   0  31 149 109 125 133 135 150 166 131\n",
      " 130 145 125 135 135   0   0   1   0   0   0   0   0   0   0   0   0   2\n",
      "   0  28 148 109 125 135 133 149 167 133 130 136 133 130 135   0   0   2\n",
      "   0   0   0   0   0   0   0   0   0   2   0  31 143 108 126 136 130 155\n",
      " 181 133 131 130 135 126 141   0   0   1   0   0   0   0   0   0   0   0\n",
      "   0   3   0  39 149 114 129 133 129 153 187 134 138 126 134 128 141   3\n",
      "   0   1   0   0   0   0   0   0   0   0   0   3   0  38 126 116 129 134\n",
      " 130 151 195 138 140 133 134 130 139   9   0   2   0   0   0   0   0   0\n",
      "   0   0   0   3   0  46 126 113 126 128 130 134 182 148 125 128 128 129\n",
      " 123  14   0   2   0   0   0   0   0   0   0   0   0   2   0  92 134 131\n",
      " 156 160 160 154 230 191 156 161 156 134 167  38   0   2   0   0   0   0\n",
      "   0   0   0   0   1   1   0  27  53  48  48  54  51  36  63  59  58  62\n",
      "  64  63  78  11   0   2   0   0   0   0   0]\n"
     ]
    },
    {
     "data": {
      "text/plain": [
       "array([  0,   0,   0,   0,   0,   3,   0,   0,   0,  41,  92, 172, 100,\n",
       "        23,  22,  33, 104, 136,  93,  44,   0,   0,   0,   2,   0,   0,\n",
       "         0,   0,   0,   0,   0,   0,   2,   0,   6, 119, 166, 177, 159,\n",
       "       153, 227, 232, 215, 240, 227, 156, 162, 180, 175, 102,   0,   0,\n",
       "         0,   0,   0,   0,   0,   0,   0,   2,   0,  16, 166, 143, 133,\n",
       "       126, 134, 121, 102, 146, 171, 160, 106, 113, 130, 130, 136, 151,\n",
       "       159,   0,   0,   1,   0,   0,   0,   0,   0,   1,   0, 105, 139,\n",
       "       123, 130, 129, 133, 133, 134, 116, 108, 113, 129, 135, 136, 131,\n",
       "       128, 126, 150,  77,   0,   2,   0,   0,   0,   0,   0,   0,   2,\n",
       "       151, 128, 126, 129, 130, 131, 130, 129, 131, 135, 134, 130, 130,\n",
       "       131, 130, 130, 130, 139, 138,   0,   0,   0,   0,   0,   0,   0,\n",
       "         0,  44, 148, 129, 126, 130, 133, 129, 129, 130, 130, 129, 129,\n",
       "       130, 129, 131, 130, 131, 125, 146, 165,   2,   0,   0,   0,   0,\n",
       "         0,   0,   0,  93, 156, 148, 124, 126, 126, 128, 128, 129, 129,\n",
       "       129, 129, 129, 128, 131, 125, 145, 141, 153, 156,  36,   0,   0,\n",
       "         0,   0,   0,   0,   0, 134, 150, 169, 136, 123, 130, 129, 129,\n",
       "       133, 133, 130, 131, 130, 134, 135, 120, 157, 143, 156, 157,  78,\n",
       "         0,   0,   0,   0,   0,   0,   0, 155, 140, 176, 174, 103, 138,\n",
       "       130, 131, 130, 130, 134, 131, 131, 130, 148, 113, 179, 181, 155,\n",
       "       148, 121,   0,   0,   0,   0,   0,   0,  36, 160, 143, 179, 221,\n",
       "       113, 129, 134, 133, 135, 134, 135, 131, 141, 133, 146,  98, 202,\n",
       "       216, 150, 145, 155,   0,   0,   0,   0,   0,   0,  87, 138, 139,\n",
       "       169, 243, 121, 126, 133, 133, 140, 134, 130, 134, 136, 141, 139,\n",
       "        97, 213, 223, 143, 136, 143,   7,   0,   0,   0,   0,   0, 118,\n",
       "       165, 161, 191, 255, 150, 115, 135, 130, 143, 134, 130, 139, 126,\n",
       "       156, 138,  97, 223, 247, 160, 153, 159,  54,   0,   0,   0,   0,\n",
       "         0,   0,  14,  49,  70,  89, 131, 130, 130, 126, 146, 140, 133,\n",
       "       139, 129, 153, 149, 104, 189, 130,  92,  83,  46,   0,   0,   0,\n",
       "         0,   0,   0,   0,   0,   0,   0,   0, 146, 131, 126, 129, 144,\n",
       "       139, 128, 135, 134, 140, 162, 116, 150,   0,   0,   0,   0,   0,\n",
       "         0,   0,   0,   0,   0,   1,   2,   2,   0,   4, 148, 129, 124,\n",
       "       131, 143, 144, 134, 136, 140, 126, 169, 126, 145,   0,   0,   2,\n",
       "         3,   1,   0,   0,   0,   0,   0,   0,   0,   2,   0,   9, 153,\n",
       "       126, 124, 131, 144, 148, 136, 134, 145, 124, 162, 136, 134,   0,\n",
       "         0,   1,   0,   0,   0,   0,   0,   0,   0,   0,   0,   2,   0,\n",
       "        17, 153, 125, 124, 130, 141, 149, 144, 130, 141, 126, 150, 140,\n",
       "       130,   0,   0,   1,   1,   0,   0,   0,   0,   0,   0,   1,   1,\n",
       "         3,   0,  18, 151, 119, 125, 131, 141, 151, 146, 129, 141, 130,\n",
       "       135, 146, 125,   0,   0,   1,   0,   0,   0,   0,   0,   0,   0,\n",
       "         0,   1,   3,   0,  23, 156, 113, 124, 131, 139, 153, 150, 128,\n",
       "       140, 136, 125, 141, 128,   0,   0,   0,   0,   0,   0,   0,   0,\n",
       "         0,   0,   0,   0,   2,   0,  29, 151, 118, 128, 134, 141, 151,\n",
       "       161, 130, 134, 141, 128, 139, 126,   0,   0,   0,   1,   0,   0,\n",
       "         0,   0,   0,   0,   0,   0,   2,   0,  31, 149, 109, 125, 133,\n",
       "       135, 150, 166, 131, 130, 145, 125, 135, 135,   0,   0,   1,   0,\n",
       "         0,   0,   0,   0,   0,   0,   0,   0,   2,   0,  28, 148, 109,\n",
       "       125, 135, 133, 149, 167, 133, 130, 136, 133, 130, 135,   0,   0,\n",
       "         2,   0,   0,   0,   0,   0,   0,   0,   0,   0,   2,   0,  31,\n",
       "       143, 108, 126, 136, 130, 155, 181, 133, 131, 130, 135, 126, 141,\n",
       "         0,   0,   1,   0,   0,   0,   0,   0,   0,   0,   0,   0,   3,\n",
       "         0,  39, 149, 114, 129, 133, 129, 153, 187, 134, 138, 126, 134,\n",
       "       128, 141,   3,   0,   1,   0,   0,   0,   0,   0,   0,   0,   0,\n",
       "         0,   3,   0,  38, 126, 116, 129, 134, 130, 151, 195, 138, 140,\n",
       "       133, 134, 130, 139,   9,   0,   2,   0,   0,   0,   0,   0,   0,\n",
       "         0,   0,   0,   3,   0,  46, 126, 113, 126, 128, 130, 134, 182,\n",
       "       148, 125, 128, 128, 129, 123,  14,   0,   2,   0,   0,   0,   0,\n",
       "         0,   0,   0,   0,   0,   2,   0,  92, 134, 131, 156, 160, 160,\n",
       "       154, 230, 191, 156, 161, 156, 134, 167,  38,   0,   2,   0,   0,\n",
       "         0,   0,   0,   0,   0,   0,   1,   1,   0,  27,  53,  48,  48,\n",
       "        54,  51,  36,  63,  59,  58,  62,  64,  63,  78,  11,   0,   2,\n",
       "         0,   0,   0,   0,   0], dtype=uint8)"
      ]
     },
     "execution_count": 23,
     "metadata": {},
     "output_type": "execute_result"
    }
   ],
   "source": [
    "print(train.shape)\n",
    "print(train[0])\n",
    "train[0]\n",
    "\n",
    "#split the last column into a new array, cause its the label"
   ]
  },
  {
   "cell_type": "code",
   "execution_count": 4,
   "metadata": {},
   "outputs": [
    {
     "name": "stdout",
     "output_type": "stream",
     "text": [
      "76.93116420382165\n",
      "89.97942562765583\n"
     ]
    }
   ],
   "source": [
    "print(train.mean())\n",
    "print(train.std())"
   ]
  },
  {
   "cell_type": "code",
   "execution_count": 5,
   "metadata": {},
   "outputs": [
    {
     "name": "stdout",
     "output_type": "stream",
     "text": [
      "(10000,)\n",
      "(10000, 784)\n"
     ]
    }
   ],
   "source": [
    "class_label = train[:, -1] # for last column\n",
    "train_clean = train[:, :-1] # for all columns except last\n",
    "\n",
    "print(class_label.shape)\n",
    "print(train_clean.shape)"
   ]
  },
  {
   "cell_type": "code",
   "execution_count": 6,
   "metadata": {},
   "outputs": [],
   "source": [
    "#plot the first 10 images in the training set and their labels\n",
    "def plot_images(images, labels):\n",
    "    fig, axes = plt.subplots(2, 5, figsize=(10, 4))\n",
    "    for i, ax in enumerate(axes.flat):\n",
    "        ax.imshow(images[i].reshape(28, 28), cmap='binary')\n",
    "        ax.set(title = f\"Label: {labels[i]}\")\n",
    "    plt.show()\n"
   ]
  },
  {
   "cell_type": "code",
   "execution_count": 7,
   "metadata": {},
   "outputs": [
    {
     "data": {
      "image/png": "[encoded data removed]",
      "text/plain": [
       "<Figure size 720x288 with 10 Axes>"
      ]
     },
     "metadata": {
      "needs_background": "light"
     },
     "output_type": "display_data"
    }
   ],
   "source": [
    "plot_images(images=train_clean, labels=class_label)"
   ]
  },
  {
   "cell_type": "code",
   "execution_count": 29,
   "metadata": {},
   "outputs": [
    {
     "data": {
      "image/png": "[encoded data removed]",
      "text/plain": [
       "<Figure size 432x288 with 1 Axes>"
      ]
     },
     "metadata": {
      "needs_background": "light"
     },
     "output_type": "display_data"
    }
   ],
   "source": [
    "# plot the distribution of the labels\n",
    "import seaborn as sn\n",
    "def plot_label_distribution(labels):\n",
    "    labels, count = np.unique(labels, return_counts=True)\n",
    "    plt.bar(labels, count, align=\"center\")\n",
    "    plt.xticks([0,1,2,3,4], labels = [\"Tshit/top\",\"Trouses\",\"Pullover\",\"Dress\",\"Shirt\"])\n",
    "    plt.title(\"Class distribution\")\n",
    "    plt.ylabel(\"Frequency\")\n",
    "    plt.xlabel(\"Class\")\n",
    "    plt.show()\n",
    "\n",
    "plot_label_distribution(class_label)\n"
   ]
  }
 ],
 "metadata": {
  "kernelspec": {
   "display_name": "Python 3",
   "language": "python",
   "name": "python3"
  },
  "language_info": {
   "codemirror_mode": {
    "name": "ipython",
    "version": 3
   },
   "file_extension": ".py",
   "mimetype": "text/x-python",
   "name": "python",
   "nbconvert_exporter": "python",
   "pygments_lexer": "ipython3",
   "version": "3.9.6 (tags/v3.9.6:db3ff76, Jun 28 2021, 15:26:21) [MSC v.1929 64 bit (AMD64)]"
  },
  "orig_nbformat": 4,
  "vscode": {
   "interpreter": {
    "hash": "3058858984d9df1dbd1c1e60f5029c6e4d88abbe5b38801eea319e2792dee5d4"
   }
  }
 },
 "nbformat": 4,
 "nbformat_minor": 2
}
