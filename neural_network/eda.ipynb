{
 "cells": [
  {
   "cell_type": "code",
   "execution_count": 1,
   "metadata": {},
   "outputs": [],
   "source": [
    "import numpy as np \n",
    "from matplotlib import pyplot as plt\n",
    "# to import script\n",
    "import sys\n",
    "sys.path.insert(1,\"../\")\n",
    "from scripts import neural_network as nn"
   ]
  },
  {
   "cell_type": "code",
   "execution_count": 2,
   "metadata": {},
   "outputs": [],
   "source": [
    "# load data \n",
    "X, Y = nn.load_data()\n"
   ]
  },
  {
   "cell_type": "code",
   "execution_count": 3,
   "metadata": {},
   "outputs": [
    {
     "data": {
      "text/plain": [
       "<matplotlib.image.AxesImage at 0x15112e57bb0>"
      ]
     },
     "execution_count": 3,
     "metadata": {},
     "output_type": "execute_result"
    },
    {
     "data": {
      "image/png": "[encoded data removed]",
      "text/plain": [
       "<Figure size 640x480 with 1 Axes>"
      ]
     },
     "metadata": {},
     "output_type": "display_data"
    }
   ],
   "source": [
    "# reshape and show image\n",
    "im = X[4].reshape(28,28)\n",
    "plt.imshow(im, \"gray\")"
   ]
  },
  {
   "cell_type": "code",
   "execution_count": 4,
   "metadata": {},
   "outputs": [],
   "source": [
    "## make a neural networ? "
   ]
  },
  {
   "cell_type": "code",
   "execution_count": 5,
   "metadata": {},
   "outputs": [],
   "source": [
    "# load data \n",
    "x = X[0:1] / 255\n",
    "y = Y[0:1]\n",
    "w1 = nn.init_ws(x.shape[1]+1, 10)\n",
    "w2 = nn.init_ws(11,5)\n",
    "ws=[w1,w2]\n",
    "result = nn.neural_net(x, ws)\n",
    "argmax = np.argmax(result)"
   ]
  },
  {
   "cell_type": "code",
   "execution_count": 15,
   "metadata": {},
   "outputs": [
    {
     "ename": "ValueError",
     "evalue": "matmul: Input operand 1 has a mismatch in its core dimension 0, with gufunc signature (n?,k),(k,m?)->(n?,m?) (size 5 is different from 6)",
     "output_type": "error",
     "traceback": [
      "\u001b[1;31m---------------------------------------------------------------------------\u001b[0m",
      "\u001b[1;31mValueError\u001b[0m                                Traceback (most recent call last)",
      "\u001b[1;32mc:\\Users\\Nicklas\\Documents\\GitHub\\ml_project\\notebooks\\eda.ipynb Cell 6\u001b[0m in \u001b[0;36m<cell line: 2>\u001b[1;34m()\u001b[0m\n\u001b[0;32m      <a href='vscode-notebook-cell:/c%3A/Users/Nicklas/Documents/GitHub/ml_project/notebooks/eda.ipynb#X12sZmlsZQ%3D%3D?line=8'>9</a>\u001b[0m     x \u001b[39m=\u001b[39m nn\u001b[39m.\u001b[39mrelu(result)\n\u001b[0;32m     <a href='vscode-notebook-cell:/c%3A/Users/Nicklas/Documents/GitHub/ml_project/notebooks/eda.ipynb#X12sZmlsZQ%3D%3D?line=9'>10</a>\u001b[0m y_hat \u001b[39m=\u001b[39m nn\u001b[39m.\u001b[39margmax(x)\n\u001b[1;32m---> <a href='vscode-notebook-cell:/c%3A/Users/Nicklas/Documents/GitHub/ml_project/notebooks/eda.ipynb#X12sZmlsZQ%3D%3D?line=10'>11</a>\u001b[0m nn\u001b[39m.\u001b[39;49mgradient(x, w, y)\n",
      "File \u001b[1;32mc:\\Users\\Nicklas\\Documents\\GitHub\\ml_project\\notebooks\\..\\scripts\\neural_network.py:46\u001b[0m, in \u001b[0;36mgradient\u001b[1;34m(x, w, y)\u001b[0m\n\u001b[0;32m     44\u001b[0m \u001b[39mdef\u001b[39;00m \u001b[39mgradient\u001b[39m(x, w, y):\n\u001b[0;32m     45\u001b[0m     xa \u001b[39m=\u001b[39m add_column_ones(x)\n\u001b[1;32m---> 46\u001b[0m     results \u001b[39m=\u001b[39m neural_net(x, w)\n\u001b[0;32m     47\u001b[0m     y_hat \u001b[39m=\u001b[39m argmax(results)\n\u001b[0;32m     48\u001b[0m     \u001b[39mreturn\u001b[39;00m \u001b[39m-\u001b[39mxa\u001b[39m.\u001b[39mT \u001b[39m@\u001b[39m (y \u001b[39m-\u001b[39m y_hat)\n",
      "File \u001b[1;32mc:\\Users\\Nicklas\\Documents\\GitHub\\ml_project\\notebooks\\..\\scripts\\neural_network.py:59\u001b[0m, in \u001b[0;36mneural_net\u001b[1;34m(x, ws)\u001b[0m\n\u001b[0;32m     57\u001b[0m xa \u001b[39m=\u001b[39m add_column_ones(x)\n\u001b[0;32m     58\u001b[0m \u001b[39m# value times weights\u001b[39;00m\n\u001b[1;32m---> 59\u001b[0m result \u001b[39m=\u001b[39m xa \u001b[39m@\u001b[39;49m w\n\u001b[0;32m     60\u001b[0m \u001b[39m# activate result \u001b[39;00m\n\u001b[0;32m     61\u001b[0m x \u001b[39m=\u001b[39m relu(result)\n",
      "\u001b[1;31mValueError\u001b[0m: matmul: Input operand 1 has a mismatch in its core dimension 0, with gufunc signature (n?,k),(k,m?)->(n?,m?) (size 5 is different from 6)"
     ]
    }
   ],
   "source": [
    "a = 0.1\n",
    "for i in range(10):\n",
    "    x = X[0:1] / 255\n",
    "    for w in ws: \n",
    "        xa = nn.add_column_ones(x)\n",
    "        # value times weights\n",
    "        result = xa @ w\n",
    "        # activate result \n",
    "        x = nn.relu(result)\n",
    "    y_hat = nn.argmax(x)\n",
    "    grad = -xa.T @ (y - y_hat)\n",
    "#     new_weights = ws - a * grad\n",
    "#     w = new_weights\n",
    "# #     print(f'epoch {i}:{loss(xa,w,y):.4f}')\n",
    "# print(f'finanl loss: {loss(xa,w,y)}')\n",
    "# print(f'final prediction: {model(xa, w)}')"
   ]
  },
  {
   "cell_type": "code",
   "execution_count": null,
   "metadata": {},
   "outputs": [],
   "source": [
    "\n",
    "# # learning rate\n"
   ]
  },
  {
   "cell_type": "code",
   "execution_count": null,
   "metadata": {},
   "outputs": [],
   "source": []
  }
 ],
 "metadata": {
  "kernelspec": {
   "display_name": "Python 3.10.6 ('ml')",
   "language": "python",
   "name": "python3"
  },
  "language_info": {
   "codemirror_mode": {
    "name": "ipython",
    "version": 3
   },
   "file_extension": ".py",
   "mimetype": "text/x-python",
   "name": "python",
   "nbconvert_exporter": "python",
   "pygments_lexer": "ipython3",
   "version": "3.10.6 | packaged by conda-forge | (main, Oct 24 2022, 16:02:16) [MSC v.1916 64 bit (AMD64)]"
  },
  "orig_nbformat": 4,
  "vscode": {
   "interpreter": {
    "hash": "fd35a6e2c591294c77df8e24e46415efc1949605c33b89ed8162b59cb4aecd1c"
   }
  }
 },
 "nbformat": 4,
 "nbformat_minor": 2
}
